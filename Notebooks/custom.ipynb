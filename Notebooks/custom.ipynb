{
 "cells": [
  {
   "cell_type": "code",
   "execution_count": 1,
   "id": "43869ba4-ff13-47bf-b480-9953499a6ac2",
   "metadata": {},
   "outputs": [],
   "source": [
    "import tensorflow as tf\n",
    "from tensorflow.keras import layers, models\n",
    "from tensorflow.keras.preprocessing.image import ImageDataGenerator\n",
    "from tensorflow.keras import layers, models, optimizers, regularizers\n",
    "from tensorflow.keras.callbacks import ReduceLROnPlateau, EarlyStopping\n",
    "import numpy as np\n",
    "from sklearn.metrics import classification_report, confusion_matrix\n",
    "import seaborn as sns\n",
    "import matplotlib.pyplot as plt\n",
    "import os\n",
    "import cv2"
   ]
  },
  {
   "cell_type": "code",
   "execution_count": null,
   "id": "c3204c06-b1a2-442b-a935-9a790efe92c8",
   "metadata": {},
   "outputs": [],
   "source": [
    "\n",
    "# Define paths\n",
    "data_dir = \"train\"\n",
    "test_dir = \"test\"\n"
   ]
  },
  {
   "cell_type": "code",
   "execution_count": null,
   "id": "3bacd9a2-3fab-40a8-86ec-cdb2bd844e90",
   "metadata": {},
   "outputs": [],
   "source": [
    "# Set up data augmentation for training\n",
    "train_datagen = ImageDataGenerator(\n",
    "    rescale=1.0 / 255,          \n",
    "    rotation_range=10,            \n",
    "    brightness_range=[0.8, 1.2], \n",
    "    zoom_range=0.1,             \n",
    "    horizontal_flip=True,         \n",
    "    validation_split=0.2          \n",
    ")\n",
    "\n",
    "test_datagen = ImageDataGenerator(rescale=1.0/255)\n"
   ]
  },
  {
   "cell_type": "code",
   "execution_count": null,
   "id": "272e0189-a362-41d1-8390-0f4c287f1c75",
   "metadata": {},
   "outputs": [
    {
     "name": "stdout",
     "output_type": "stream",
     "text": [
      "Found 6640 images belonging to 3 classes.\n",
      "Found 1659 images belonging to 3 classes.\n",
      "Found 300 images belonging to 3 classes.\n"
     ]
    }
   ],
   "source": [
    "\n",
    "\n",
    "# Training data generator\n",
    "train_generator = train_datagen.flow_from_directory(\n",
    "    data_dir,\n",
    "    target_size=(128, 128),\n",
    "    batch_size=32,\n",
    "    class_mode='sparse',  \n",
    "    subset='training'     \n",
    ")\n",
    "\n",
    "# Validation data generator\n",
    "validation_generator = train_datagen.flow_from_directory(\n",
    "    data_dir,\n",
    "    target_size=(128, 128),\n",
    "    batch_size=32,\n",
    "    class_mode='sparse',\n",
    "    subset='validation'   \n",
    ")\n",
    "\n",
    "# Testing data generator (no data augmentation applied here)\n",
    "test_generator = test_datagen.flow_from_directory(\n",
    "    test_dir,\n",
    "    target_size=(128, 128),\n",
    "    batch_size=32,\n",
    "    class_mode='sparse',\n",
    "    shuffle=False          \n",
    ")\n"
   ]
  },
  {
   "cell_type": "code",
   "execution_count": null,
   "id": "40d6189a-4463-437d-89ce-1a44ee3ef91e",
   "metadata": {},
   "outputs": [
    {
     "name": "stderr",
     "output_type": "stream",
     "text": [
      "c:\\Users\\shash\\AppData\\Local\\Programs\\Python\\Python310\\lib\\site-packages\\keras\\src\\layers\\convolutional\\base_conv.py:107: UserWarning: Do not pass an `input_shape`/`input_dim` argument to a layer. When using Sequential models, prefer using an `Input(shape)` object as the first layer in the model instead.\n",
      "  super().__init__(activity_regularizer=activity_regularizer, **kwargs)\n"
     ]
    }
   ],
   "source": [
    "model = models.Sequential([\n",
    "    layers.Conv2D(32, (3, 3), activation='relu', input_shape=(128, 128, 3)),\n",
    "    layers.BatchNormalization(),\n",
    "    layers.MaxPooling2D((2, 2)),\n",
    "\n",
    "    layers.Conv2D(64, (3, 3), activation='relu'),\n",
    "    layers.BatchNormalization(),\n",
    "    layers.MaxPooling2D((2, 2)),\n",
    "\n",
    "    layers.Conv2D(128, (3, 3), activation='relu'),\n",
    "    layers.BatchNormalization(),\n",
    "    layers.MaxPooling2D((2, 2)),\n",
    "\n",
    "    layers.Conv2D(256, (3, 3), activation='relu'),\n",
    "    layers.BatchNormalization(),\n",
    "    layers.MaxPooling2D((2, 2)),\n",
    "\n",
    "\n",
    "    layers.Flatten(),\n",
    "    layers.Dense(256, activation='relu', kernel_regularizer=regularizers.l2(0.001)),\n",
    "    layers.BatchNormalization(),\n",
    "    layers.Dropout(0.5),\n",
    "    \n",
    "    layers.Dense(128, activation='relu', kernel_regularizer=regularizers.l2(0.001)),\n",
    "    layers.BatchNormalization(),\n",
    "    layers.Dropout(0.5),\n",
    "\n",
    "    layers.Dense(3, activation='softmax')  \n",
    "])\n",
    "\n"
   ]
  },
  {
   "cell_type": "code",
   "execution_count": null,
   "id": "967f5723-990a-4134-a054-e453f31f8396",
   "metadata": {},
   "outputs": [],
   "source": [
    "# Compile the model with Adam optimizer and a lower learning rate\n",
    "model.compile(optimizer=optimizers.Adam(learning_rate=0.0001),\n",
    "              loss='sparse_categorical_crossentropy',\n",
    "              metrics=['accuracy'])\n",
    "\n"
   ]
  },
  {
   "cell_type": "code",
   "execution_count": 7,
   "id": "e9437a76-4185-420c-b59b-7f9dff0ca786",
   "metadata": {},
   "outputs": [],
   "source": [
    "callbacks = [\n",
    "    ReduceLROnPlateau(monitor='val_loss', factor=0.5, patience=3, verbose=1, min_lr=1e-6),\n",
    "    EarlyStopping(monitor='val_loss', patience=7, verbose=1, restore_best_weights=True)\n",
    "]"
   ]
  },
  {
   "cell_type": "code",
   "execution_count": null,
   "id": "0254ff1e-2ea7-404e-9f36-492d80be330d",
   "metadata": {},
   "outputs": [
    {
     "name": "stdout",
     "output_type": "stream",
     "text": [
      "Requirement already satisfied: Pillow==9.1.0 in c:\\users\\pc\\desktop\\codingstuff\\eyediseasepred\\venv\\lib\\site-packages (9.1.0)"
     ]
    },
    {
     "name": "stderr",
     "output_type": "stream",
     "text": [
      "\n",
      "[notice] A new release of pip is available: 23.0.1 -> 24.3.1\n",
      "[notice] To update, run: python.exe -m pip install --upgrade pip\n"
     ]
    },
    {
     "name": "stdout",
     "output_type": "stream",
     "text": [
      "\n"
     ]
    }
   ],
   "source": [
    "!pip install Pillow==9.1.0"
   ]
  },
  {
   "cell_type": "code",
   "execution_count": 22,
   "id": "c897b590-adb8-49fa-a5fa-7983b9365a4f",
   "metadata": {},
   "outputs": [],
   "source": [
    "import sys\n",
    "from PIL import Image\n",
    "#import Image\n",
    "sys.modules['Image'] = Image "
   ]
  },
  {
   "cell_type": "code",
   "execution_count": 8,
   "id": "b0df53cc-f4a7-4d8e-93ad-b1452d06ce98",
   "metadata": {},
   "outputs": [
    {
     "name": "stdout",
     "output_type": "stream",
     "text": [
      "Epoch 1/15\n"
     ]
    },
    {
     "name": "stderr",
     "output_type": "stream",
     "text": [
      "c:\\Users\\shash\\AppData\\Local\\Programs\\Python\\Python310\\lib\\site-packages\\keras\\src\\trainers\\data_adapters\\py_dataset_adapter.py:120: UserWarning: Your `PyDataset` class should call `super().__init__(**kwargs)` in its constructor. `**kwargs` can include `workers`, `use_multiprocessing`, `max_queue_size`. Do not pass these arguments to `fit()`, as they will be ignored.\n",
      "  self._warn_if_super_not_called()\n"
     ]
    },
    {
     "name": "stdout",
     "output_type": "stream",
     "text": [
      "\u001b[1m208/208\u001b[0m \u001b[32m━━━━━━━━━━━━━━━━━━━━\u001b[0m\u001b[37m\u001b[0m \u001b[1m844s\u001b[0m 4s/step - accuracy: 0.6634 - loss: 1.6308 - val_accuracy: 0.5600 - val_loss: 1.6202 - learning_rate: 1.0000e-04\n",
      "Epoch 2/15\n",
      "\u001b[1m208/208\u001b[0m \u001b[32m━━━━━━━━━━━━━━━━━━━━\u001b[0m\u001b[37m\u001b[0m \u001b[1m775s\u001b[0m 4s/step - accuracy: 0.8480 - loss: 1.0832 - val_accuracy: 0.7697 - val_loss: 1.2450 - learning_rate: 1.0000e-04\n",
      "Epoch 3/15\n",
      "\u001b[1m208/208\u001b[0m \u001b[32m━━━━━━━━━━━━━━━━━━━━\u001b[0m\u001b[37m\u001b[0m \u001b[1m761s\u001b[0m 4s/step - accuracy: 0.8844 - loss: 0.9857 - val_accuracy: 0.8632 - val_loss: 1.0139 - learning_rate: 1.0000e-04\n",
      "Epoch 4/15\n",
      "\u001b[1m208/208\u001b[0m \u001b[32m━━━━━━━━━━━━━━━━━━━━\u001b[0m\u001b[37m\u001b[0m \u001b[1m765s\u001b[0m 4s/step - accuracy: 0.9052 - loss: 0.9364 - val_accuracy: 0.8758 - val_loss: 0.9644 - learning_rate: 1.0000e-04\n",
      "Epoch 5/15\n",
      "\u001b[1m208/208\u001b[0m \u001b[32m━━━━━━━━━━━━━━━━━━━━\u001b[0m\u001b[37m\u001b[0m \u001b[1m596s\u001b[0m 3s/step - accuracy: 0.9201 - loss: 0.8757 - val_accuracy: 0.8915 - val_loss: 0.9641 - learning_rate: 1.0000e-04\n",
      "Epoch 6/15\n",
      "\u001b[1m208/208\u001b[0m \u001b[32m━━━━━━━━━━━━━━━━━━━━\u001b[0m\u001b[37m\u001b[0m \u001b[1m522s\u001b[0m 2s/step - accuracy: 0.9275 - loss: 0.8517 - val_accuracy: 0.8873 - val_loss: 0.8992 - learning_rate: 1.0000e-04\n",
      "Epoch 7/15\n",
      "\u001b[1m208/208\u001b[0m \u001b[32m━━━━━━━━━━━━━━━━━━━━\u001b[0m\u001b[37m\u001b[0m \u001b[1m532s\u001b[0m 3s/step - accuracy: 0.9216 - loss: 0.8441 - val_accuracy: 0.8813 - val_loss: 0.9838 - learning_rate: 1.0000e-04\n",
      "Epoch 8/15\n",
      "\u001b[1m208/208\u001b[0m \u001b[32m━━━━━━━━━━━━━━━━━━━━\u001b[0m\u001b[37m\u001b[0m \u001b[1m607s\u001b[0m 3s/step - accuracy: 0.9288 - loss: 0.8042 - val_accuracy: 0.8626 - val_loss: 1.0084 - learning_rate: 1.0000e-04\n",
      "Epoch 9/15\n",
      "\u001b[1m208/208\u001b[0m \u001b[32m━━━━━━━━━━━━━━━━━━━━\u001b[0m\u001b[37m\u001b[0m \u001b[1m0s\u001b[0m 3s/step - accuracy: 0.9297 - loss: 0.8110\n",
      "Epoch 9: ReduceLROnPlateau reducing learning rate to 4.999999873689376e-05.\n",
      "\u001b[1m208/208\u001b[0m \u001b[32m━━━━━━━━━━━━━━━━━━━━\u001b[0m\u001b[37m\u001b[0m \u001b[1m784s\u001b[0m 4s/step - accuracy: 0.9297 - loss: 0.8110 - val_accuracy: 0.8800 - val_loss: 0.9455 - learning_rate: 1.0000e-04\n",
      "Epoch 10/15\n",
      "\u001b[1m208/208\u001b[0m \u001b[32m━━━━━━━━━━━━━━━━━━━━\u001b[0m\u001b[37m\u001b[0m \u001b[1m698s\u001b[0m 3s/step - accuracy: 0.9394 - loss: 0.7723 - val_accuracy: 0.8843 - val_loss: 0.9097 - learning_rate: 5.0000e-05\n",
      "Epoch 11/15\n",
      "\u001b[1m208/208\u001b[0m \u001b[32m━━━━━━━━━━━━━━━━━━━━\u001b[0m\u001b[37m\u001b[0m \u001b[1m704s\u001b[0m 3s/step - accuracy: 0.9366 - loss: 0.7703 - val_accuracy: 0.8752 - val_loss: 0.9345 - learning_rate: 5.0000e-05\n",
      "Epoch 12/15\n",
      "\u001b[1m208/208\u001b[0m \u001b[32m━━━━━━━━━━━━━━━━━━━━\u001b[0m\u001b[37m\u001b[0m \u001b[1m643s\u001b[0m 3s/step - accuracy: 0.9496 - loss: 0.7307 - val_accuracy: 0.8969 - val_loss: 0.8461 - learning_rate: 5.0000e-05\n",
      "Epoch 13/15\n",
      "\u001b[1m208/208\u001b[0m \u001b[32m━━━━━━━━━━━━━━━━━━━━\u001b[0m\u001b[37m\u001b[0m \u001b[1m778s\u001b[0m 4s/step - accuracy: 0.9518 - loss: 0.7227 - val_accuracy: 0.8879 - val_loss: 0.8807 - learning_rate: 5.0000e-05\n",
      "Epoch 14/15\n",
      "\u001b[1m208/208\u001b[0m \u001b[32m━━━━━━━━━━━━━━━━━━━━\u001b[0m\u001b[37m\u001b[0m \u001b[1m792s\u001b[0m 4s/step - accuracy: 0.9550 - loss: 0.7020 - val_accuracy: 0.9030 - val_loss: 0.8311 - learning_rate: 5.0000e-05\n",
      "Epoch 15/15\n",
      "\u001b[1m208/208\u001b[0m \u001b[32m━━━━━━━━━━━━━━━━━━━━\u001b[0m\u001b[37m\u001b[0m \u001b[1m770s\u001b[0m 4s/step - accuracy: 0.9537 - loss: 0.6917 - val_accuracy: 0.9030 - val_loss: 0.8201 - learning_rate: 5.0000e-05\n",
      "Restoring model weights from the end of the best epoch: 15.\n"
     ]
    }
   ],
   "source": [
    "# Train the model with callbacks\n",
    "history = model.fit(\n",
    "    train_generator,\n",
    "    validation_data=validation_generator,\n",
    "    epochs=15,\n",
    "    callbacks=callbacks\n",
    ")"
   ]
  },
  {
   "cell_type": "code",
   "execution_count": 9,
   "id": "86dd5c58-7101-4bfe-9350-cd5e03ccfeda",
   "metadata": {},
   "outputs": [],
   "source": [
    "model.save('simple_cnn_model.keras')"
   ]
  },
  {
   "cell_type": "code",
   "execution_count": 81,
   "id": "6f722383-6c58-41e7-9c2e-5b1dc632c03f",
   "metadata": {},
   "outputs": [
    {
     "name": "stdout",
     "output_type": "stream",
     "text": [
      "Output shape: (1, 4)\n"
     ]
    }
   ],
   "source": [
    "import tensorflow as tf\n",
    "from tensorflow.keras import layers\n",
    "\n",
    "class CustomModel(tf.keras.Model):\n",
    "    def __init__(self):\n",
    "        super(CustomModel, self).__init__()\n",
    "        self.conv1 = layers.Conv2D(32, (3, 3), activation='relu', input_shape=(128, 128, 3))\n",
    "        self.pool1 = layers.MaxPooling2D((2, 2))\n",
    "        self.flatten = layers.Flatten()\n",
    "        self.dense = layers.Dense(4, activation='softmax')\n",
    "\n",
    "    def call(self, inputs):\n",
    "        x = self.conv1(inputs)\n",
    "        x = self.pool1(x)\n",
    "        x = self.flatten(x)\n",
    "        return self.dense(x)\n",
    "\n",
    "# Create and compile the model\n",
    "model = CustomModel()\n",
    "model.compile(optimizer='adam', loss='sparse_categorical_crossentropy', metrics=['accuracy'])\n",
    "\n",
    "# Create a dummy input and call the model\n",
    "dummy_input = tf.random.normal((1, 128, 128, 3))\n",
    "output = model(dummy_input)\n",
    "\n",
    "# Access the model's inputs and outputs through the call method\n",
    "print(\"Output shape:\", output.shape)  # Output shape: (1, 4)"
   ]
  },
  {
   "cell_type": "code",
   "execution_count": null,
   "id": "6a7f4dda-f91d-4c19-bc34-ee0c6c7fa26a",
   "metadata": {},
   "outputs": [
    {
     "name": "stdout",
     "output_type": "stream",
     "text": [
      "\u001b[1m10/10\u001b[0m \u001b[32m━━━━━━━━━━━━━━━━━━━━\u001b[0m\u001b[37m\u001b[0m \u001b[1m16s\u001b[0m 2s/step\n",
      "Classification Report:\n",
      "               precision    recall  f1-score   support\n",
      "\n",
      "citrus canker       1.00      0.73      0.84       100\n",
      "      healthy       0.78      0.97      0.87       100\n",
      "     melanose       0.96      0.99      0.98       100\n",
      "\n",
      "     accuracy                           0.90       300\n",
      "    macro avg       0.91      0.90      0.90       300\n",
      " weighted avg       0.91      0.90      0.90       300\n",
      "\n"
     ]
    },
    {
     "data": {
      "image/png": "[encoded data removed]",
      "text/plain": [
       "<Figure size 800x600 with 2 Axes>"
      ]
     },
     "metadata": {},
     "output_type": "display_data"
    }
   ],
   "source": [
    "# Assuming 'test_generator' is your test data generator\n",
    "# and 'model' is your trained model\n",
    "\n",
    "# Step 1: Get predictions and true labels\n",
    "test_generator.reset()  # Reset the generator if it has been used before\n",
    "predictions = model.predict(test_generator)\n",
    "predicted_classes = np.argmax(predictions, axis=1)\n",
    "true_classes = test_generator.classes\n",
    "class_labels = list(test_generator.class_indices.keys())\n",
    "\n",
    "# Step 2: Classification Report\n",
    "print(\"Classification Report:\")\n",
    "print(classification_report(true_classes, predicted_classes, target_names=class_labels))\n",
    "\n",
    "# Step 3: Confusion Matrix\n",
    "conf_matrix = confusion_matrix(true_classes, predicted_classes)\n",
    "\n",
    "# Plot the Confusion Matrix\n",
    "plt.figure(figsize=(8, 6))\n",
    "sns.heatmap(conf_matrix, annot=True, fmt='d', cmap='Blues', xticklabels=class_labels, yticklabels=class_labels)\n",
    "plt.xlabel('Predicted Labels')\n",
    "plt.ylabel('True Labels')\n",
    "plt.title('Confusion Matrix')\n",
    "plt.show()"
   ]
  },
  {
   "cell_type": "code",
   "execution_count": 11,
   "id": "28b76733-a9cc-4d73-85e1-b0fd467d60f5",
   "metadata": {},
   "outputs": [
    {
     "data": {
      "image/png": "[encoded data removed]",
      "text/plain": [
       "<Figure size 640x480 with 1 Axes>"
      ]
     },
     "metadata": {},
     "output_type": "display_data"
    }
   ],
   "source": [
    "plt.plot(history.history['accuracy'], label='Training Accuracy')\n",
    "plt.plot(history.history['val_accuracy'], label='Validation Accuracy')\n",
    "plt.xlabel('Epochs')\n",
    "plt.ylabel('Accuracy')\n",
    "plt.title('Training and Validation Accuracy')\n",
    "plt.legend()\n",
    "plt.show()"
   ]
  },
  {
   "cell_type": "code",
   "execution_count": null,
   "id": "2225b713-287d-4fc1-afd0-c4ac25ab94e6",
   "metadata": {},
   "outputs": [],
   "source": [
    "import tensorflow as tf\n",
    "\n",
    "# Load the pre-trained model\n",
    "model = tf.keras.models.load_model('cnn_model.keras')\n"
   ]
  }
 ],
 "metadata": {
  "kernelspec": {
   "display_name": "Python 3",
   "language": "python",
   "name": "python3"
  },
  "language_info": {
   "codemirror_mode": {
    "name": "ipython",
    "version": 3
   },
   "file_extension": ".py",
   "mimetype": "text/x-python",
   "name": "python",
   "nbconvert_exporter": "python",
   "pygments_lexer": "ipython3",
   "version": "3.10.7"
  }
 },
 "nbformat": 4,
 "nbformat_minor": 5
}
